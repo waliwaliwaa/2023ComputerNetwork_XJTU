{
 "cells": [
  {
   "cell_type": "code",
   "execution_count": 1,
   "metadata": {},
   "outputs": [
    {
     "name": "stdout",
     "output_type": "stream",
     "text": [
      "服务器启动，等待客户端发送数据...\n",
      "收到客户端('127.0.0.1', 60715)的消息：admin 123456\n",
      "发送给客户端('127.0.0.1', 60715)的消息：信息正确\n"
     ]
    },
    {
     "ename": "",
     "evalue": "",
     "output_type": "error",
     "traceback": [
      "\u001b[1;31mThe Kernel crashed while executing code in the the current cell or a previous cell. Please review the code in the cell(s) to identify a possible cause of the failure. Click <a href='https://aka.ms/vscodeJupyterKernelCrash'>here</a> for more info. View Jupyter <a href='command:jupyter.viewOutput'>log</a> for further details."
     ]
    }
   ],
   "source": [
    "import socket\n",
    "\n",
    "# 创建一个UDP套接字对象\n",
    "# AF_INET = IPv4; SOCK_DGRAM = UDP\n",
    "server_socket = socket.socket(socket.AF_INET, socket.SOCK_DGRAM)\n",
    "\n",
    "# 绑定服务器的IP地址和端口号\n",
    "server_socket.bind((\"127.0.0.1\", 8888))\n",
    "\n",
    "# 定义一个用户信息的字典，用于验证登录\n",
    "users = {\"admin\": \"123456\", \"user\": \"654321\"}\n",
    "\n",
    "print(\"服务器启动，等待客户端发送数据...\")\n",
    "\n",
    "# 无限循环，处理客户端发送的数据\n",
    "while True:\n",
    "    # 接收客户端发送的数据和客户端的地址，最多接收1024字节\n",
    "    data, client_address = server_socket.recvfrom(1024)\n",
    "    # 把接收到的数据解码为字符串\n",
    "    message = data.decode()\n",
    "    print(f\"收到客户端{client_address}的消息：{message}\")\n",
    "    username, password = message.split()\n",
    "    if username in users and users[username] == password:\n",
    "        reply = \"信息正确\"\n",
    "    else:\n",
    "        reply = \"用户名或密码错误，请再次输入\"\n",
    "    # 把回复消息编码为字节\n",
    "    data = reply.encode()\n",
    "    # 发送回复消息给客户端\n",
    "    server_socket.sendto(data, client_address)\n",
    "    print(f\"发送给客户端{client_address}的消息：{reply}\")\n",
    "\n",
    "# 关闭永远不会执行到这一步）\n",
    "server_socket.close()\n"
   ]
  }
 ],
 "metadata": {
  "kernelspec": {
   "display_name": "base",
   "language": "python",
   "name": "python3"
  },
  "language_info": {
   "codemirror_mode": {
    "name": "ipython",
    "version": 3
   },
   "file_extension": ".py",
   "mimetype": "text/x-python",
   "name": "python",
   "nbconvert_exporter": "python",
   "pygments_lexer": "ipython3",
   "version": "3.10.9"
  }
 },
 "nbformat": 4,
 "nbformat_minor": 2
}
