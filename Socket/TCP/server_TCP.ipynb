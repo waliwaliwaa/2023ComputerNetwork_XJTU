{
 "cells": [
  {
   "cell_type": "code",
   "execution_count": 1,
   "metadata": {},
   "outputs": [
    {
     "name": "stdout",
     "output_type": "stream",
     "text": [
      "服务器启动，等待客户端连接...\n",
      "客户端('127.0.0.1', 2692)已连接\n",
      "收到客户端('127.0.0.1', 2692)的消息：admin 123456\n",
      "发送给客户端('127.0.0.1', 2692)的消息：信息正确\n",
      "客户端('127.0.0.1', 2692)已断开\n"
     ]
    }
   ],
   "source": [
    "import socket\n",
    "\n",
    "# 创建一个TCP套接字对象\n",
    "# AF_INET = IPv4; SOCK_STREAM = TCP\n",
    "server_socket = socket.socket(socket.AF_INET, socket.SOCK_STREAM)\n",
    "\n",
    "# 绑定服务器的IP地址和端口号\n",
    "server_socket.bind((\"127.0.0.1\", 8888))\n",
    "\n",
    "# 开始监听客户端的连接请求，最多允许5个客户端同时连接\n",
    "server_socket.listen(5)\n",
    "print(\"服务器启动，等待客户端连接...\")\n",
    "\n",
    "# 定义一个用户信息的字典，用于验证登录\n",
    "users = {\"admin\": \"123456\", \"user\": \"654321\"}\n",
    "\n",
    "# 实现循环监听，处理客户端的连接和通信\n",
    "while True:\n",
    "    # 接受一个客户端的连接，返回一个新的套接字对象和客户端的地址\n",
    "    client_socket, client_address = server_socket.accept()\n",
    "    print(f\"客户端{client_address}已连接\")\n",
    "\n",
    "    # 用一个循环来处理和这个客户端的通信\n",
    "    while True:\n",
    "        # 接收客户端发送的数据，最多接收1024字节\n",
    "        data = client_socket.recv(1024)\n",
    "        if not data:\n",
    "            break\n",
    "        # 把接收到的数据解码为字符串\n",
    "        message = data.decode()\n",
    "        print(f\"收到客户端{client_address}的消息：{message}\")\n",
    "        username, password = message.split()\n",
    "        if username in users and users[username] == password:\n",
    "            reply = \"信息正确\"\n",
    "        else:\n",
    "            reply = \"用户名或密码错误，请再次输入\"\n",
    "        # 把回复消息编码为字节\n",
    "        data = reply.encode()\n",
    "        # 发送回复消息给客户端\n",
    "        client_socket.send(data)\n",
    "        print(f\"发送给客户端{client_address}的消息：{reply}\")\n",
    "        \n",
    "    client_socket.close()\n",
    "    print(f\"客户端{client_address}已断开\")\n",
    "\n",
    "# 关闭（永远不会执行到这一步）\n",
    "server_socket.close()\n"
   ]
  }
 ],
 "metadata": {
  "kernelspec": {
   "display_name": "base",
   "language": "python",
   "name": "python3"
  },
  "language_info": {
   "codemirror_mode": {
    "name": "ipython",
    "version": 3
   },
   "file_extension": ".py",
   "mimetype": "text/x-python",
   "name": "python",
   "nbconvert_exporter": "python",
   "pygments_lexer": "ipython3",
   "version": "3.10.9"
  }
 },
 "nbformat": 4,
 "nbformat_minor": 2
}
